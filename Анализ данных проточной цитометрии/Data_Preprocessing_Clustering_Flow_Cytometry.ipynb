{
  "cells": [
    {
      "cell_type": "markdown",
      "metadata": {
        "id": "e68Czcd_yO78"
      },
      "source": [
        "### Анализ данных проточной цитометрии с применением методов Data Science\n",
        "\n",
        "#### Общая цель проекта:\n",
        "\n",
        "Разработать и реализовать процедуру предварительной обработки и анализа данных проточной цитометрии, с целью идентификации различных популяций клеток крови. Данные представляют собой измерения интенсивности флуоресцентных меток на клеточных маркерах, полученные с помощью специализированного оборудования.\n",
        "\n",
        "#### Описание данных:\n",
        "\n",
        "- FITC-CD4 - представляет измерения интенсивности флуоресценции, связанной с меткой FITC, привязанной к антителам CD4. CD4 — это гликопротеин, который обычно находится на поверхности иммунных клеток, таких как Т-хелперы. Измерения могут указывать на количество или активность CD4-позитивных клеток в образце;\n",
        "\n",
        "- PE-CD8 - отражает интенсивность флуоресценции метки PE, привязанной к антителам CD8. CD8 — это молекула, присутствующая на цитотоксических Т-лимфоцитах. Измерения помогают оценить присутствие и состояние CD8-позитивных клеток;\n",
        "\n",
        "- ECD-CD19 - измеряется интенсивность флуоресценции метки ECD, связанной с антителами CD19. CD19 является маркером В-лимфоцитов, и его измерения важны для анализа этих клеток в иммунной системе;\n",
        "\n",
        "- PC5-CD45 - представляет собой данные о флуоресценции метки PC5, связанной с антителами CD45. CD45 — это молекула, широко выражаемая на всех клетках иммунной системы, и ее измерения могут использоваться для оценки общего количества иммунных клеток;\n",
        "\n",
        "- PC7-CD3 - отражает интенсивность флуоресценции метки PC7, привязанной к антителам CD3. CD3 присутствует на всех Т-лимфоцитах, и его измерения важны для идентификации и анализа этих клеток.\n",
        "\n",
        "#### Задачи исследования:\n",
        "\n",
        "- Этап 1: Разведочный анализ данных (EDA);\n",
        "\n",
        "- Этап 2. Интеграция данных;\n",
        "\n",
        "- Этап 3. Очистка данных: пропущенные значения и выбросы;\n",
        "\n",
        "- Этап 4. Трансформация данных;\n",
        "\n",
        "- Этап 5. Кластеризация по методу K-средних;\n",
        "\n",
        "- Выввод"
      ]
    },
    {
      "cell_type": "markdown",
      "metadata": {
        "id": "bEUP26flyO7_"
      },
      "source": [
        "### Этап 1. Разведочный анализ данных (EDA)\n",
        "\n",
        "#### Подключение библиотек\n"
      ]
    },
    {
      "cell_type": "code",
      "execution_count": null,
      "metadata": {
        "id": "hTb2vavFyO7-"
      },
      "outputs": [],
      "source": [
        "import pandas as pd\n",
        "import matplotlib.pyplot as plt\n",
        "import seaborn\n",
        "import numpy as np\n",
        "\n",
        "from sklearn.preprocessing import StandardScaler\n",
        "from sklearn.preprocessing import MinMaxScaler\n",
        "from sklearn.decomposition import PCA\n",
        "from sklearn.cluster       import KMeans\n",
        "from sklearn.metrics       import silhouette_score"
      ]
    },
    {
      "cell_type": "markdown",
      "source": [
        "#### Загрузка данных из файлов"
      ],
      "metadata": {
        "id": "WTYPMzvu78mt"
      }
    },
    {
      "cell_type": "code",
      "execution_count": null,
      "metadata": {
        "id": "pzaOJ_HMyO8A"
      },
      "outputs": [],
      "source": [
        "exp_1 = pd.read_table('flowcyt_exp_1.csv', sep=',')\n",
        "exp_2 = pd.read_table('flowcyt_exp_2.csv', sep=',')"
      ]
    },
    {
      "cell_type": "markdown",
      "metadata": {
        "id": "XVydgpOoyO8A"
      },
      "source": [
        "#### Первичный осмотр данных"
      ]
    },
    {
      "cell_type": "code",
      "execution_count": null,
      "metadata": {
        "scrolled": true,
        "id": "ehChQ3AcyO8A",
        "outputId": "bb3920e0-fd91-4436-ce53-a3bf50c891e0"
      },
      "outputs": [
        {
          "name": "stdout",
          "output_type": "stream",
          "text": [
            "<class 'pandas.core.frame.DataFrame'>\n",
            "RangeIndex: 1500 entries, 0 to 1499\n",
            "Data columns (total 5 columns):\n",
            "FITC-CD4    1500 non-null float64\n",
            "PE-CD8      1498 non-null float64\n",
            "ECD-CD19    1500 non-null float64\n",
            "PC5-CD45    1499 non-null float64\n",
            "PC7-CD3     1500 non-null float64\n",
            "dtypes: float64(5)\n",
            "memory usage: 58.7 KB\n"
          ]
        }
      ],
      "source": [
        "exp_1.info()"
      ]
    },
    {
      "cell_type": "code",
      "execution_count": null,
      "metadata": {
        "scrolled": true,
        "id": "FF8xcNTRyO8B",
        "outputId": "73db7896-a3fd-447d-c05c-c16cb6f33a1e"
      },
      "outputs": [
        {
          "name": "stdout",
          "output_type": "stream",
          "text": [
            "<class 'pandas.core.frame.DataFrame'>\n",
            "RangeIndex: 2000 entries, 0 to 1999\n",
            "Data columns (total 5 columns):\n",
            "FITC-CD4    2000 non-null float64\n",
            "PE-CD8      2000 non-null float64\n",
            "ECD-CD19    2000 non-null float64\n",
            "PC5-CD45    2000 non-null float64\n",
            "PC7-CD3     2000 non-null float64\n",
            "dtypes: float64(5)\n",
            "memory usage: 78.2 KB\n"
          ]
        }
      ],
      "source": [
        "exp_2.info()"
      ]
    },
    {
      "cell_type": "code",
      "execution_count": null,
      "metadata": {
        "id": "dEHBQNdcyO8B",
        "outputId": "45487cf5-df7c-4cab-e992-f079e0c42533"
      },
      "outputs": [
        {
          "name": "stdout",
          "output_type": "stream",
          "text": [
            "(1500, 5)\n",
            "(2000, 5)\n"
          ]
        }
      ],
      "source": [
        "print(exp_1.shape)\n",
        "print(exp_2.shape)"
      ]
    },
    {
      "cell_type": "code",
      "execution_count": null,
      "metadata": {
        "scrolled": true,
        "id": "PXDIu9wWyO8B",
        "outputId": "9d25f153-018d-43d9-81b3-5b5ea54c6212"
      },
      "outputs": [
        {
          "data": {
            "text/html": [
              "<div>\n",
              "<style scoped>\n",
              "    .dataframe tbody tr th:only-of-type {\n",
              "        vertical-align: middle;\n",
              "    }\n",
              "\n",
              "    .dataframe tbody tr th {\n",
              "        vertical-align: top;\n",
              "    }\n",
              "\n",
              "    .dataframe thead th {\n",
              "        text-align: right;\n",
              "    }\n",
              "</style>\n",
              "<table border=\"1\" class=\"dataframe\">\n",
              "  <thead>\n",
              "    <tr style=\"text-align: right;\">\n",
              "      <th></th>\n",
              "      <th>FITC-CD4</th>\n",
              "      <th>PE-CD8</th>\n",
              "      <th>ECD-CD19</th>\n",
              "      <th>PC5-CD45</th>\n",
              "      <th>PC7-CD3</th>\n",
              "    </tr>\n",
              "  </thead>\n",
              "  <tbody>\n",
              "    <tr>\n",
              "      <th>0</th>\n",
              "      <td>6.319052</td>\n",
              "      <td>10.247240</td>\n",
              "      <td>5.823141</td>\n",
              "      <td>348.236416</td>\n",
              "      <td>32.775910</td>\n",
              "    </tr>\n",
              "    <tr>\n",
              "      <th>1</th>\n",
              "      <td>17.596262</td>\n",
              "      <td>12.079250</td>\n",
              "      <td>6.377226</td>\n",
              "      <td>161.834871</td>\n",
              "      <td>105.072122</td>\n",
              "    </tr>\n",
              "    <tr>\n",
              "      <th>2</th>\n",
              "      <td>8.035667</td>\n",
              "      <td>7.312782</td>\n",
              "      <td>4.571919</td>\n",
              "      <td>143.615860</td>\n",
              "      <td>15.172019</td>\n",
              "    </tr>\n",
              "    <tr>\n",
              "      <th>3</th>\n",
              "      <td>2.288821</td>\n",
              "      <td>19.927998</td>\n",
              "      <td>9.303102</td>\n",
              "      <td>231.140357</td>\n",
              "      <td>95.825287</td>\n",
              "    </tr>\n",
              "    <tr>\n",
              "      <th>4</th>\n",
              "      <td>0.346184</td>\n",
              "      <td>1.513483</td>\n",
              "      <td>0.964166</td>\n",
              "      <td>53.802542</td>\n",
              "      <td>4.992490</td>\n",
              "    </tr>\n",
              "  </tbody>\n",
              "</table>\n",
              "</div>"
            ],
            "text/plain": [
              "    FITC-CD4     PE-CD8  ECD-CD19    PC5-CD45     PC7-CD3\n",
              "0   6.319052  10.247240  5.823141  348.236416   32.775910\n",
              "1  17.596262  12.079250  6.377226  161.834871  105.072122\n",
              "2   8.035667   7.312782  4.571919  143.615860   15.172019\n",
              "3   2.288821  19.927998  9.303102  231.140357   95.825287\n",
              "4   0.346184   1.513483  0.964166   53.802542    4.992490"
            ]
          },
          "execution_count": 9,
          "metadata": {},
          "output_type": "execute_result"
        }
      ],
      "source": [
        "exp_1.head(5)"
      ]
    },
    {
      "cell_type": "code",
      "execution_count": null,
      "metadata": {
        "id": "tRJ6ntIdyO8C",
        "outputId": "06479259-21ec-4c18-ad9e-b71e5e4ad989"
      },
      "outputs": [
        {
          "data": {
            "text/html": [
              "<div>\n",
              "<style scoped>\n",
              "    .dataframe tbody tr th:only-of-type {\n",
              "        vertical-align: middle;\n",
              "    }\n",
              "\n",
              "    .dataframe tbody tr th {\n",
              "        vertical-align: top;\n",
              "    }\n",
              "\n",
              "    .dataframe thead th {\n",
              "        text-align: right;\n",
              "    }\n",
              "</style>\n",
              "<table border=\"1\" class=\"dataframe\">\n",
              "  <thead>\n",
              "    <tr style=\"text-align: right;\">\n",
              "      <th></th>\n",
              "      <th>FITC-CD4</th>\n",
              "      <th>PE-CD8</th>\n",
              "      <th>ECD-CD19</th>\n",
              "      <th>PC5-CD45</th>\n",
              "      <th>PC7-CD3</th>\n",
              "    </tr>\n",
              "  </thead>\n",
              "  <tbody>\n",
              "    <tr>\n",
              "      <th>0</th>\n",
              "      <td>0.837327</td>\n",
              "      <td>1.183511</td>\n",
              "      <td>0.845910</td>\n",
              "      <td>57.769830</td>\n",
              "      <td>5.396848</td>\n",
              "    </tr>\n",
              "    <tr>\n",
              "      <th>1</th>\n",
              "      <td>1.323701</td>\n",
              "      <td>2.126696</td>\n",
              "      <td>1.357080</td>\n",
              "      <td>40.802041</td>\n",
              "      <td>5.512243</td>\n",
              "    </tr>\n",
              "    <tr>\n",
              "      <th>2</th>\n",
              "      <td>3.643993</td>\n",
              "      <td>3.363613</td>\n",
              "      <td>3.243449</td>\n",
              "      <td>67.657535</td>\n",
              "      <td>10.886203</td>\n",
              "    </tr>\n",
              "    <tr>\n",
              "      <th>3</th>\n",
              "      <td>1.740457</td>\n",
              "      <td>2.077105</td>\n",
              "      <td>1.709940</td>\n",
              "      <td>58.868464</td>\n",
              "      <td>6.974227</td>\n",
              "    </tr>\n",
              "    <tr>\n",
              "      <th>4</th>\n",
              "      <td>1.709940</td>\n",
              "      <td>1.324655</td>\n",
              "      <td>2.671244</td>\n",
              "      <td>26.763942</td>\n",
              "      <td>4.044537</td>\n",
              "    </tr>\n",
              "  </tbody>\n",
              "</table>\n",
              "</div>"
            ],
            "text/plain": [
              "   FITC-CD4    PE-CD8  ECD-CD19   PC5-CD45    PC7-CD3\n",
              "0  0.837327  1.183511  0.845910  57.769830   5.396848\n",
              "1  1.323701  2.126696  1.357080  40.802041   5.512243\n",
              "2  3.643993  3.363613  3.243449  67.657535  10.886203\n",
              "3  1.740457  2.077105  1.709940  58.868464   6.974227\n",
              "4  1.709940  1.324655  2.671244  26.763942   4.044537"
            ]
          },
          "execution_count": 10,
          "metadata": {},
          "output_type": "execute_result"
        }
      ],
      "source": [
        "exp_2.head(5)"
      ]
    },
    {
      "cell_type": "markdown",
      "metadata": {
        "id": "3NvV7gWsyO8C"
      },
      "source": [
        "В этом наборе данных каждая строка представляет одну клетку крови, а каждый столбец - интенсивность флуоресцентного маркера антитела, обнаруженного на этой клетке крови. В науке о данных строки иногда называют экземплярами или примерами, а столбцы - признаками, атрибутами или переменными.\n",
        "\n",
        "\n",
        "Обратите внимание на две вещи:   \n",
        "\n",
        "- Обе таблицы имеют одинаковое количество и типы столбцов. Это означает, что мы можем успешно объединить эти данные;\n",
        "\n",
        "- Мы также видим пропущенные значения.\n"
      ]
    },
    {
      "cell_type": "markdown",
      "metadata": {
        "id": "iVses46MyO8C"
      },
      "source": [
        "### Этап 2. Интеграция данных"
      ]
    },
    {
      "cell_type": "code",
      "execution_count": null,
      "metadata": {
        "scrolled": false,
        "id": "ibEk1WjSyO8C",
        "outputId": "efb7cbbe-af79-46fe-d739-0275e5e3c9d9"
      },
      "outputs": [
        {
          "name": "stdout",
          "output_type": "stream",
          "text": [
            "<class 'pandas.core.frame.DataFrame'>\n",
            "Int64Index: 3500 entries, 0 to 1999\n",
            "Data columns (total 5 columns):\n",
            "FITC-CD4    3500 non-null float64\n",
            "PE-CD8      3498 non-null float64\n",
            "ECD-CD19    3500 non-null float64\n",
            "PC5-CD45    3499 non-null float64\n",
            "PC7-CD3     3500 non-null float64\n",
            "dtypes: float64(5)\n",
            "memory usage: 164.1 KB\n"
          ]
        }
      ],
      "source": [
        "# Объединим обе таблицы в одну.\n",
        "combined_exp = pd.concat([exp_1,exp_2],axis=0)\n",
        "# Проверим результирующую таблицу\n",
        "combined_exp.info()"
      ]
    },
    {
      "cell_type": "code",
      "execution_count": null,
      "metadata": {
        "id": "8_ecDpTmyO8C",
        "outputId": "25b8e7a4-aed5-4bda-89fe-fb681c040fdd"
      },
      "outputs": [
        {
          "data": {
            "image/png": "[encoded data removed]",
            "text/plain": [
              "<Figure size 864x720 with 6 Axes>"
            ]
          },
          "metadata": {},
          "output_type": "display_data"
        }
      ],
      "source": [
        "# Быстрый взгляд на распределение каждого столбца признаков в нашем наборе данных с помощью гистограммы\n",
        "combined_exp.hist(bins=50, figsize=(12,10), color='skyblue')\n",
        "plt.show()"
      ]
    },
    {
      "cell_type": "markdown",
      "metadata": {
        "id": "GKoHPgeIyO8D"
      },
      "source": [
        "### Этап 3. Очистка данных: пропущенные значения и выбросы"
      ]
    },
    {
      "cell_type": "markdown",
      "metadata": {
        "id": "ZmnYXw2yyO8D"
      },
      "source": [
        "### 3a. Работа с пропущенными значениями\n",
        "\n",
        "В столбцах PE-CD8 и PC5-CD45 есть пропущенные значения.\n",
        "\n",
        "Мы работаем с отсутствующими точками данных двумя способами:  \n",
        "- отбросить всю строку с отсутствующим значением;\n",
        "- заменить недостающие значения средним значением, модой или медианой.\n",
        "\n",
        "Для демонстрации обоих способов будет скопирован кадр данных. Выбор способа зависит от того, насколько велика доля пропущенных данных."
      ]
    },
    {
      "cell_type": "code",
      "execution_count": null,
      "metadata": {
        "scrolled": true,
        "id": "Sw-O2lTxyO8D",
        "outputId": "ef92791b-972c-4133-e59e-e03b9d8f9e1b"
      },
      "outputs": [
        {
          "name": "stdout",
          "output_type": "stream",
          "text": [
            "<class 'pandas.core.frame.DataFrame'>\n",
            "Int64Index: 3500 entries, 0 to 1999\n",
            "Data columns (total 5 columns):\n",
            "FITC-CD4    3500 non-null float64\n",
            "PE-CD8      3498 non-null float64\n",
            "ECD-CD19    3500 non-null float64\n",
            "PC5-CD45    3499 non-null float64\n",
            "PC7-CD3     3500 non-null float64\n",
            "dtypes: float64(5)\n",
            "memory usage: 164.1 KB\n"
          ]
        }
      ],
      "source": [
        "# Копирование исходных данных\n",
        "df = combined_exp.copy()\n",
        "# Перед удалением строк с отсутствующими значениями\n",
        "df.info()"
      ]
    },
    {
      "cell_type": "code",
      "execution_count": null,
      "metadata": {
        "scrolled": true,
        "id": "kAq1XKVayO8D",
        "outputId": "0024e893-6255-4418-b9ae-166e069c54cf"
      },
      "outputs": [
        {
          "name": "stdout",
          "output_type": "stream",
          "text": [
            "<class 'pandas.core.frame.DataFrame'>\n",
            "Int64Index: 3497 entries, 0 to 1999\n",
            "Data columns (total 5 columns):\n",
            "FITC-CD4    3497 non-null float64\n",
            "PE-CD8      3497 non-null float64\n",
            "ECD-CD19    3497 non-null float64\n",
            "PC5-CD45    3497 non-null float64\n",
            "PC7-CD3     3497 non-null float64\n",
            "dtypes: float64(5)\n",
            "memory usage: 163.9 KB\n"
          ]
        }
      ],
      "source": [
        "# После удаления строк с отсутствующими значениями\n",
        "df.dropna(axis=0, inplace=True)\n",
        "df.info()"
      ]
    },
    {
      "cell_type": "code",
      "execution_count": null,
      "metadata": {
        "scrolled": true,
        "id": "7gnX_1tbyO8F",
        "outputId": "94884d8a-d9e4-4eac-ac69-533eec98d754"
      },
      "outputs": [
        {
          "name": "stdout",
          "output_type": "stream",
          "text": [
            "<class 'pandas.core.frame.DataFrame'>\n",
            "Int64Index: 3500 entries, 0 to 1999\n",
            "Data columns (total 5 columns):\n",
            "FITC-CD4    3500 non-null float64\n",
            "PE-CD8      3498 non-null float64\n",
            "ECD-CD19    3500 non-null float64\n",
            "PC5-CD45    3499 non-null float64\n",
            "PC7-CD3     3500 non-null float64\n",
            "dtypes: float64(5)\n",
            "memory usage: 164.1 KB\n"
          ]
        }
      ],
      "source": [
        "# Копирование исходных данных\n",
        "df = combined_exp.copy()\n",
        "# Перед заполнением средней-медианой для строк с отсутствующими значениями\n",
        "df.info()"
      ]
    },
    {
      "cell_type": "code",
      "execution_count": null,
      "metadata": {
        "scrolled": true,
        "id": "sZiRnckgyO8F",
        "outputId": "a1ce6897-0e53-4ca0-c3ac-bc09d73c5f7c"
      },
      "outputs": [
        {
          "name": "stdout",
          "output_type": "stream",
          "text": [
            "<class 'pandas.core.frame.DataFrame'>\n",
            "Int64Index: 3500 entries, 0 to 1999\n",
            "Data columns (total 5 columns):\n",
            "FITC-CD4    3500 non-null float64\n",
            "PE-CD8      3500 non-null float64\n",
            "ECD-CD19    3500 non-null float64\n",
            "PC5-CD45    3500 non-null float64\n",
            "PC7-CD3     3500 non-null float64\n",
            "dtypes: float64(5)\n",
            "memory usage: 164.1 KB\n"
          ]
        }
      ],
      "source": [
        "# Заполняем недостающие значения средним значением\n",
        "m1 = df['PE-CD8'].mean()\n",
        "df['PE-CD8'].fillna(m1, inplace=True)\n",
        "\n",
        "m2 = df['PC5-CD45'].mean()\n",
        "df['PC5-CD45'].fillna(m2,inplace=True)\n",
        "\n",
        "# После заполнения пустых строк средним значением\n",
        "df.info()"
      ]
    },
    {
      "cell_type": "markdown",
      "metadata": {
        "id": "n96Ygdk9yO8F"
      },
      "source": [
        "#### Я решил отбросить строки с отсутствующими значениями в исходных данных, поскольку их не так много"
      ]
    },
    {
      "cell_type": "code",
      "execution_count": null,
      "metadata": {
        "scrolled": true,
        "id": "7_Dg_PCCyO8F",
        "outputId": "963bff0f-082b-4c9a-bac8-c5fb65506a90"
      },
      "outputs": [
        {
          "name": "stdout",
          "output_type": "stream",
          "text": [
            "<class 'pandas.core.frame.DataFrame'>\n",
            "Int64Index: 3497 entries, 0 to 1999\n",
            "Data columns (total 5 columns):\n",
            "FITC-CD4    3497 non-null float64\n",
            "PE-CD8      3497 non-null float64\n",
            "ECD-CD19    3497 non-null float64\n",
            "PC5-CD45    3497 non-null float64\n",
            "PC7-CD3     3497 non-null float64\n",
            "dtypes: float64(5)\n",
            "memory usage: 163.9 KB\n"
          ]
        }
      ],
      "source": [
        "combined_exp.dropna(axis=0, inplace=True)\n",
        "combined_exp.info()"
      ]
    },
    {
      "cell_type": "markdown",
      "metadata": {
        "id": "8zUORCn9yO8F"
      },
      "source": [
        "### 3b. Поиск выбросов и сводная статистика"
      ]
    },
    {
      "cell_type": "code",
      "execution_count": null,
      "metadata": {
        "scrolled": true,
        "id": "-57bckudyO8F",
        "outputId": "cb7237d1-0467-465d-88b8-547c7ffaace8"
      },
      "outputs": [
        {
          "data": {
            "text/html": [
              "<div>\n",
              "<style scoped>\n",
              "    .dataframe tbody tr th:only-of-type {\n",
              "        vertical-align: middle;\n",
              "    }\n",
              "\n",
              "    .dataframe tbody tr th {\n",
              "        vertical-align: top;\n",
              "    }\n",
              "\n",
              "    .dataframe thead th {\n",
              "        text-align: right;\n",
              "    }\n",
              "</style>\n",
              "<table border=\"1\" class=\"dataframe\">\n",
              "  <thead>\n",
              "    <tr style=\"text-align: right;\">\n",
              "      <th></th>\n",
              "      <th>FITC-CD4</th>\n",
              "      <th>PE-CD8</th>\n",
              "      <th>ECD-CD19</th>\n",
              "      <th>PC5-CD45</th>\n",
              "      <th>PC7-CD3</th>\n",
              "    </tr>\n",
              "  </thead>\n",
              "  <tbody>\n",
              "    <tr>\n",
              "      <th>count</th>\n",
              "      <td>3497.000000</td>\n",
              "      <td>3497.000000</td>\n",
              "      <td>3497.000000</td>\n",
              "      <td>3497.000000</td>\n",
              "      <td>3497.000000</td>\n",
              "    </tr>\n",
              "    <tr>\n",
              "      <th>mean</th>\n",
              "      <td>8.259508</td>\n",
              "      <td>14.034130</td>\n",
              "      <td>6.331480</td>\n",
              "      <td>98.286916</td>\n",
              "      <td>31.857014</td>\n",
              "    </tr>\n",
              "    <tr>\n",
              "      <th>std</th>\n",
              "      <td>40.406166</td>\n",
              "      <td>339.698436</td>\n",
              "      <td>27.940002</td>\n",
              "      <td>92.890647</td>\n",
              "      <td>100.211465</td>\n",
              "    </tr>\n",
              "    <tr>\n",
              "      <th>min</th>\n",
              "      <td>0.000000</td>\n",
              "      <td>0.000000</td>\n",
              "      <td>0.000000</td>\n",
              "      <td>2.225878</td>\n",
              "      <td>0.000000</td>\n",
              "    </tr>\n",
              "    <tr>\n",
              "      <th>25%</th>\n",
              "      <td>1.301767</td>\n",
              "      <td>2.037050</td>\n",
              "      <td>1.598360</td>\n",
              "      <td>33.935579</td>\n",
              "      <td>5.271917</td>\n",
              "    </tr>\n",
              "    <tr>\n",
              "      <th>50%</th>\n",
              "      <td>2.004625</td>\n",
              "      <td>3.058436</td>\n",
              "      <td>2.522471</td>\n",
              "      <td>49.835253</td>\n",
              "      <td>8.206375</td>\n",
              "    </tr>\n",
              "    <tr>\n",
              "      <th>75%</th>\n",
              "      <td>3.675464</td>\n",
              "      <td>9.310731</td>\n",
              "      <td>5.290990</td>\n",
              "      <td>165.527502</td>\n",
              "      <td>19.714374</td>\n",
              "    </tr>\n",
              "    <tr>\n",
              "      <th>max</th>\n",
              "      <td>999.970436</td>\n",
              "      <td>20000.000000</td>\n",
              "      <td>999.970436</td>\n",
              "      <td>999.970436</td>\n",
              "      <td>5000.000000</td>\n",
              "    </tr>\n",
              "  </tbody>\n",
              "</table>\n",
              "</div>"
            ],
            "text/plain": [
              "          FITC-CD4        PE-CD8     ECD-CD19     PC5-CD45      PC7-CD3\n",
              "count  3497.000000   3497.000000  3497.000000  3497.000000  3497.000000\n",
              "mean      8.259508     14.034130     6.331480    98.286916    31.857014\n",
              "std      40.406166    339.698436    27.940002    92.890647   100.211465\n",
              "min       0.000000      0.000000     0.000000     2.225878     0.000000\n",
              "25%       1.301767      2.037050     1.598360    33.935579     5.271917\n",
              "50%       2.004625      3.058436     2.522471    49.835253     8.206375\n",
              "75%       3.675464      9.310731     5.290990   165.527502    19.714374\n",
              "max     999.970436  20000.000000   999.970436   999.970436  5000.000000"
            ]
          },
          "execution_count": 23,
          "metadata": {},
          "output_type": "execute_result"
        }
      ],
      "source": [
        "combined_exp.describe()"
      ]
    },
    {
      "cell_type": "markdown",
      "metadata": {
        "id": "3rnLSmtByO8F"
      },
      "source": [
        "Наблюдения и выводы для каждого столбца:\n",
        "\n",
        "- Если среднее значение больше медианы, это указывает на то, что данные перекошены в сторону больших значений (справа);\n",
        "\n",
        "- Если первый квартиль (25-й) ближе к медиане, чем второй, это свидетельствует о том, что распределение перекошено в сторону больших значений;\n",
        "\n",
        "- Если стандартное отклонение намного меньше диапазона (max-min), это указывает на длинный хвост распределения.\n",
        "\n",
        "Давайте визуализируем распределение для маркера PE-CD8"
      ]
    },
    {
      "cell_type": "code",
      "execution_count": null,
      "metadata": {
        "id": "qibjj_ahyO8F"
      },
      "outputs": [],
      "source": [
        "# Определение стилей для заголовков и осей графика\n",
        "font_title = {'family': 'sans serif', 'color':  'black', 'weight': 'bold', 'size': 14}\n",
        "font_ax =  {'family': 'sans serif', 'color':  'brown', 'weight': 'normal', 'size': 14}\n",
        "\n",
        "def plotstats(df, col):\n",
        "    \"\"\"\n",
        "    Функция для визуализации статистических данных определенного столбца DataFrame.\n",
        "\n",
        "    Эта функция генерирует два графика: боксплот и гистограмму, которые отображаются\n",
        "    один над другим для указанного столбца DataFrame.\n",
        "\n",
        "    Параметры:\n",
        "    df (pandas.DataFrame): DataFrame, содержащий данные для анализа.\n",
        "    col (str): Название столбца в DataFrame, для которого нужно сгенерировать графики.\n",
        "\n",
        "    Возвращаемое значение:\n",
        "    list: Список, содержащий название столбца.\n",
        "\n",
        "    Описание:\n",
        "    Первый график (боксплот) используется для визуализации распределения значений,\n",
        "    исключая пустые значения. Второй график (гистограмма) показывает распределение\n",
        "    значений по частоте в виде столбиков.\n",
        "    \"\"\"\n",
        "\n",
        "    # Рисование двух графиков, одного над другим\n",
        "    fig, ax = plt.subplots(2, 1, figsize=(12, 8))\n",
        "    plt.title(\"Распределение интенсивности флуоресценции для {}\".format(col), fontdict=font_title)\n",
        "    # Боксплот\n",
        "    df.dropna().boxplot(col, ax=ax[0], vert=False, return_type='dict')  # Исключение пустых значений в столбце col\n",
        "    # Построение гистограммы\n",
        "    temp = df[col].as_matrix()  # Преобразование DataFrame в массив numpy matrix\n",
        "    ax[1].hist(temp, bins=80, alpha=0.7)\n",
        "    plt.ylabel('Количество клеток крови')\n",
        "    plt.xlabel(col)\n",
        "    return [col]"
      ]
    },
    {
      "cell_type": "code",
      "execution_count": null,
      "metadata": {
        "scrolled": false,
        "id": "aeUp9j--yO8G",
        "outputId": "7441a0a8-3001-43f9-bdee-570209bc5c23"
      },
      "outputs": [
        {
          "data": {
            "text/plain": [
              "['PE-CD8']"
            ]
          },
          "execution_count": 25,
          "metadata": {},
          "output_type": "execute_result"
        },
        {
          "data": {
            "image/png": "[encoded data removed]",
            "text/plain": [
              "<Figure size 864x576 with 2 Axes>"
            ]
          },
          "metadata": {},
          "output_type": "display_data"
        }
      ],
      "source": [
        "# Вызов функции\n",
        "plotstats(combined_exp, 'PE-CD8')"
      ]
    },
    {
      "cell_type": "markdown",
      "metadata": {
        "id": "VF3FHHeUyO8G"
      },
      "source": [
        "Примечание: графики и гистограммы имеют одинаковую шкалу. Однако боксплот дает нам лучшее представление о выбросах. Обратите внимание, что выбросы не всегда вызваны шумом, поэтому они могут быть значимыми."
      ]
    },
    {
      "cell_type": "code",
      "execution_count": null,
      "metadata": {
        "scrolled": false,
        "id": "gufkhB_lyO8G",
        "outputId": "547951ca-d6ea-4380-8999-24317e2ad2ad"
      },
      "outputs": [
        {
          "data": {
            "text/html": [
              "<div>\n",
              "<style scoped>\n",
              "    .dataframe tbody tr th:only-of-type {\n",
              "        vertical-align: middle;\n",
              "    }\n",
              "\n",
              "    .dataframe tbody tr th {\n",
              "        vertical-align: top;\n",
              "    }\n",
              "\n",
              "    .dataframe thead th {\n",
              "        text-align: right;\n",
              "    }\n",
              "</style>\n",
              "<table border=\"1\" class=\"dataframe\">\n",
              "  <thead>\n",
              "    <tr style=\"text-align: right;\">\n",
              "      <th></th>\n",
              "      <th>FITC-CD4</th>\n",
              "      <th>PE-CD8</th>\n",
              "      <th>ECD-CD19</th>\n",
              "      <th>PC5-CD45</th>\n",
              "      <th>PC7-CD3</th>\n",
              "    </tr>\n",
              "  </thead>\n",
              "  <tbody>\n",
              "    <tr>\n",
              "      <th>count</th>\n",
              "      <td>3495.000000</td>\n",
              "      <td>3495.000000</td>\n",
              "      <td>3495.000000</td>\n",
              "      <td>3495.000000</td>\n",
              "      <td>3495.000000</td>\n",
              "    </tr>\n",
              "    <tr>\n",
              "      <th>mean</th>\n",
              "      <td>8.259575</td>\n",
              "      <td>8.316992</td>\n",
              "      <td>6.333020</td>\n",
              "      <td>98.274781</td>\n",
              "      <td>30.442148</td>\n",
              "    </tr>\n",
              "    <tr>\n",
              "      <th>std</th>\n",
              "      <td>40.417432</td>\n",
              "      <td>33.271905</td>\n",
              "      <td>27.947881</td>\n",
              "      <td>92.909349</td>\n",
              "      <td>54.604878</td>\n",
              "    </tr>\n",
              "    <tr>\n",
              "      <th>min</th>\n",
              "      <td>0.000000</td>\n",
              "      <td>0.000000</td>\n",
              "      <td>0.000000</td>\n",
              "      <td>2.225878</td>\n",
              "      <td>0.000000</td>\n",
              "    </tr>\n",
              "    <tr>\n",
              "      <th>25%</th>\n",
              "      <td>1.301767</td>\n",
              "      <td>2.036573</td>\n",
              "      <td>1.598360</td>\n",
              "      <td>33.920320</td>\n",
              "      <td>5.271440</td>\n",
              "    </tr>\n",
              "    <tr>\n",
              "      <th>50%</th>\n",
              "      <td>2.004625</td>\n",
              "      <td>3.052714</td>\n",
              "      <td>2.522471</td>\n",
              "      <td>49.804735</td>\n",
              "      <td>8.202561</td>\n",
              "    </tr>\n",
              "    <tr>\n",
              "      <th>75%</th>\n",
              "      <td>3.674987</td>\n",
              "      <td>9.258279</td>\n",
              "      <td>5.285268</td>\n",
              "      <td>165.588537</td>\n",
              "      <td>19.690532</td>\n",
              "    </tr>\n",
              "    <tr>\n",
              "      <th>max</th>\n",
              "      <td>999.970436</td>\n",
              "      <td>999.970436</td>\n",
              "      <td>999.970436</td>\n",
              "      <td>999.970436</td>\n",
              "      <td>999.970436</td>\n",
              "    </tr>\n",
              "  </tbody>\n",
              "</table>\n",
              "</div>"
            ],
            "text/plain": [
              "          FITC-CD4       PE-CD8     ECD-CD19     PC5-CD45      PC7-CD3\n",
              "count  3495.000000  3495.000000  3495.000000  3495.000000  3495.000000\n",
              "mean      8.259575     8.316992     6.333020    98.274781    30.442148\n",
              "std      40.417432    33.271905    27.947881    92.909349    54.604878\n",
              "min       0.000000     0.000000     0.000000     2.225878     0.000000\n",
              "25%       1.301767     2.036573     1.598360    33.920320     5.271440\n",
              "50%       2.004625     3.052714     2.522471    49.804735     8.202561\n",
              "75%       3.674987     9.258279     5.285268   165.588537    19.690532\n",
              "max     999.970436   999.970436   999.970436   999.970436   999.970436"
            ]
          },
          "execution_count": 26,
          "metadata": {},
          "output_type": "execute_result"
        }
      ],
      "source": [
        "# Удалим значения выбросов, исключив строки в PE-CD8 и PC5-CD45 со значениями, превышающими 10000\n",
        "combined_exp = combined_exp[combined_exp['PE-CD8']<10000]\n",
        "combined_exp = combined_exp[combined_exp['PC7-CD3']<5000]\n",
        "\n",
        "# Посмотрим результат\n",
        "combined_exp.describe()"
      ]
    },
    {
      "cell_type": "code",
      "execution_count": null,
      "metadata": {
        "scrolled": true,
        "id": "FgflozB5yO8G",
        "outputId": "355b0754-68e9-4cba-9085-48e7087ab3b2"
      },
      "outputs": [
        {
          "data": {
            "text/plain": [
              "['PE-CD8']"
            ]
          },
          "execution_count": 27,
          "metadata": {},
          "output_type": "execute_result"
        },
        {
          "data": {
            "image/png": "[encoded data removed]",
            "text/plain": [
              "<Figure size 864x576 with 2 Axes>"
            ]
          },
          "metadata": {},
          "output_type": "display_data"
        }
      ],
      "source": [
        "# Посмотрим график после изменений\n",
        "plotstats(combined_exp, 'PE-CD8')"
      ]
    },
    {
      "cell_type": "markdown",
      "metadata": {
        "id": "SekGKjRuyO8G"
      },
      "source": [
        "### Этап 4. Трансформация данных\n",
        "\n",
        "#### Пояснение\n",
        "<b>Преобразование данных</b> часто является необходимым шагом перед выполнением любого моделирования данных, особенно если вы не знаете распределение данных или хотите изменить масштаб данных на гауссовский (нормальный) или перед выполнением уменьшения размерности, например PCA.\n",
        "\n",
        "Два популярных типа преобразования данных - это нормализация и стандартизация. В науке о данных и машинном обучении эти методы иногда называют масштабированием признаков. В обоих случаях целью является получение значений каждой переменной признака на одной шкале или в ограниченном диапазоне.\n",
        "\n",
        "- Нормализация, она же Min-Max Scaling: изменяет масштаб значений признака в столбце от 0 до 1. Наибольшее значение будет = 1, а наименьшее = 0;\n",
        "\n",
        "- Стандартизация, она же Z-нормализация: изменяет масштаб значений признака так, чтобы среднее значение было равно 1, а стандартное отклонение - 1, так что теперь они имеют стандартное нормальное распределение."
      ]
    },
    {
      "cell_type": "code",
      "execution_count": null,
      "metadata": {
        "scrolled": true,
        "id": "ko1qta-tyO8G"
      },
      "outputs": [],
      "source": [
        "df_stand  = StandardScaler().fit_transform(combined_exp)  ## Z-score normalization\n",
        "df_minmax = MinMaxScaler().fit_transform(combined_exp)    ## Min-max scaling"
      ]
    },
    {
      "cell_type": "code",
      "execution_count": null,
      "metadata": {
        "scrolled": false,
        "id": "t1bL-MFryO8G",
        "outputId": "88baf509-8bd7-43ac-d6e8-75ed5945021d"
      },
      "outputs": [
        {
          "name": "stdout",
          "output_type": "stream",
          "text": [
            "Unscaled Means:  [ 8.25957457  8.31699237  6.33302018 98.27478146 30.44214792]\n",
            "Z-score standardization means:  [ 4.47265814e-17 -1.82972378e-17 -9.14861892e-18 -2.84623700e-17\n",
            " -6.09907928e-17]\n",
            " Min-Max rescaled means:  [0.00825982 0.00831724 0.00633321 0.09626603 0.03044305]\n"
          ]
        }
      ],
      "source": [
        "# Сравним средние значения измененных данных с исходными данными\n",
        "orig_means = combined_exp.describe().loc['mean'].values\n",
        "\n",
        "stand_means = []\n",
        "for i in range(5): # 5 features\n",
        "    stand_means.append(df_stand[:,i].mean())\n",
        "\n",
        "minmax_means = []\n",
        "for i in range(5): # 5 features\n",
        "    minmax_means.append(df_minmax[:,i].mean())\n",
        "\n",
        "print('Unscaled Means: ', orig_means)\n",
        "print('Z-score standardization means: ', np.asarray(stand_means))\n",
        "print('Min-Max rescaled means: ', np.asarray(minmax_means))"
      ]
    },
    {
      "cell_type": "markdown",
      "metadata": {
        "id": "YaiRSL3MyO8H"
      },
      "source": [
        "### Этап 4. Сокращение объема данных/размерности  \n",
        "\n",
        "Редукция данных направлена на снижение сложности данных высокой размерности.\n",
        "\n",
        "Это важно для:\n",
        "\n",
        "- Сжатия данных для экономии времени хранения и обработки;\n",
        "- обнаружения закономерностей или кластеризации данных;\n",
        "- обнаружения выбросов.\n",
        "\n",
        "Каждый признак можно представить как измерение или ось на графике. Нам удобно читать двумерные графики. Трехмерные графики иногда допустимы, но по возможности их следует избегать, а все, что превышает четырехмерность, становится неразборчивым для человеческой зрительной системы. Высокая размерность обычно возникает в научных экспериментах. Например, в демонстрационных данных проточной цитометрии содержится 5 клеточных маркеров или признаков (5-мерность), но в большинстве экспериментов на одну клетку может приходиться 10 20 или 30 маркеров.  \n",
        "\n",
        "#### PCA\n",
        "\n",
        "Анализ главных компонент является, вероятно, наиболее широко используемым методом уменьшения размерности для визуализации высокоразмерных данных в науках о жизни.\n",
        "\n",
        "Формально PCA сводит пространство признаков высокой размерности к подпространству признаков более низкой размерности путем выбора новых осей, называемых главными компонентами, которые сохраняют как можно больше вариаций, присутствовавших в исходных данных.   \n",
        "\n",
        "<b> Важно учитывать </b>\n",
        "\n",
        "1. PCA чувствителен к очень большим значениям. Если признак слишком велик, он будет доминировать и станет главным компонентом, поэтому мы <b>ДОЛЖНЫ</b> выполнить масштабирование или нормализацию признака;\n",
        "\n",
        "2. Предполагается, что подпространство линейно."
      ]
    },
    {
      "cell_type": "code",
      "execution_count": null,
      "metadata": {
        "id": "zQjdRPhuyO8H"
      },
      "outputs": [],
      "source": [
        "pca = PCA(n_components=2) # Определяем PCA с указанием количества измерений или главных компонент"
      ]
    },
    {
      "cell_type": "code",
      "execution_count": null,
      "metadata": {
        "id": "oI_-C5DgyO8H"
      },
      "outputs": [],
      "source": [
        "# Шаг.1 Нормализация данных по Z-score\n",
        "data_normed = StandardScaler().fit_transform(combined_exp)"
      ]
    },
    {
      "cell_type": "code",
      "execution_count": null,
      "metadata": {
        "id": "YyHnnX6jyO8H"
      },
      "outputs": [],
      "source": [
        "# Шаг 2. Выполните PCA для нормализованных данных\n",
        "data_reduce=pca.fit_transform(data_normed)\n",
        "\n",
        "# Показывает, сколько информации сохраняется после уменьшения, больше - лучше\n",
        "var_exp = pca.explained_variance_ratio_\n",
        "\n",
        "## Преобразуем в Pandas: DataFrame\n",
        "data_reduce = pd.DataFrame(data_reduce, columns=['PC1', 'PC2'])\n"
      ]
    },
    {
      "cell_type": "code",
      "execution_count": null,
      "metadata": {
        "scrolled": true,
        "id": "UE3LgpV-yO8P",
        "outputId": "6980ca0c-d436-410b-fd97-5c3e596eb099"
      },
      "outputs": [
        {
          "name": "stdout",
          "output_type": "stream",
          "text": [
            "Cumulative variance explained by PC1 and PC2: 89.41 %\n"
          ]
        }
      ],
      "source": [
        "# Проверим, сколько вариаций сохранилось от исходных данных высокой размерности\n",
        "print('Cumulative variance explained by PC1 and PC2: {} %'.format(round(np.sum(var_exp)*100,2)))"
      ]
    },
    {
      "cell_type": "code",
      "execution_count": null,
      "metadata": {
        "scrolled": false,
        "id": "tL9fGpmCyO8Q",
        "outputId": "123c3d58-2ca9-43be-bbb7-127495c5d23f"
      },
      "outputs": [
        {
          "name": "stdout",
          "output_type": "stream",
          "text": [
            "(3495, 5)\n",
            "(3495, 2)\n"
          ]
        }
      ],
      "source": [
        "print(data_normed.shape) # обратите внимание, что у нас есть 5 столбцов характеристик, или 5 измерений\n",
        "print(data_reduce.shape) # теперь данные сведены к двум измерениям"
      ]
    },
    {
      "cell_type": "code",
      "execution_count": null,
      "metadata": {
        "id": "Cme1ShmHyO8Q",
        "outputId": "ae3c7e81-c898-444b-c247-a716108eb038"
      },
      "outputs": [
        {
          "data": {
            "text/html": [
              "<div>\n",
              "<style scoped>\n",
              "    .dataframe tbody tr th:only-of-type {\n",
              "        vertical-align: middle;\n",
              "    }\n",
              "\n",
              "    .dataframe tbody tr th {\n",
              "        vertical-align: top;\n",
              "    }\n",
              "\n",
              "    .dataframe thead th {\n",
              "        text-align: right;\n",
              "    }\n",
              "</style>\n",
              "<table border=\"1\" class=\"dataframe\">\n",
              "  <thead>\n",
              "    <tr style=\"text-align: right;\">\n",
              "      <th></th>\n",
              "      <th>PC1</th>\n",
              "      <th>PC2</th>\n",
              "    </tr>\n",
              "  </thead>\n",
              "  <tbody>\n",
              "    <tr>\n",
              "      <th>0</th>\n",
              "      <td>1.104903</td>\n",
              "      <td>-1.640013</td>\n",
              "    </tr>\n",
              "    <tr>\n",
              "      <th>1</th>\n",
              "      <td>1.018392</td>\n",
              "      <td>-1.046503</td>\n",
              "    </tr>\n",
              "    <tr>\n",
              "      <th>2</th>\n",
              "      <td>0.032542</td>\n",
              "      <td>-0.182891</td>\n",
              "    </tr>\n",
              "    <tr>\n",
              "      <th>3</th>\n",
              "      <td>1.239840</td>\n",
              "      <td>-1.366764</td>\n",
              "    </tr>\n",
              "    <tr>\n",
              "      <th>4</th>\n",
              "      <td>-0.668707</td>\n",
              "      <td>0.338521</td>\n",
              "    </tr>\n",
              "  </tbody>\n",
              "</table>\n",
              "</div>"
            ],
            "text/plain": [
              "        PC1       PC2\n",
              "0  1.104903 -1.640013\n",
              "1  1.018392 -1.046503\n",
              "2  0.032542 -0.182891\n",
              "3  1.239840 -1.366764\n",
              "4 -0.668707  0.338521"
            ]
          },
          "execution_count": 59,
          "metadata": {},
          "output_type": "execute_result"
        }
      ],
      "source": [
        "data_reduce.head() # каждая главная компонента представляет собой ось"
      ]
    },
    {
      "cell_type": "markdown",
      "metadata": {
        "id": "qWRzNg4TyO8Q"
      },
      "source": [
        "<b> PCA </b> это популярный способ визуализации и поиска скрытых закономерностей в данных."
      ]
    },
    {
      "cell_type": "code",
      "execution_count": null,
      "metadata": {
        "scrolled": true,
        "id": "sKOTzblCyO8Q",
        "outputId": "771470f1-defd-4bd4-b17d-3aa4ad5273a1"
      },
      "outputs": [
        {
          "data": {
            "image/png": "[encoded data removed]",
            "text/plain": [
              "<Figure size 720x576 with 1 Axes>"
            ]
          },
          "metadata": {},
          "output_type": "display_data"
        }
      ],
      "source": [
        "data_reduce.plot.scatter('PC1', 'PC2', figsize=(10,8))\n",
        "plt.title('Principal Component Analysis of Fluorescent Labelled Blood Cells', fontsize=14, fontweight='bold')\n",
        "plt.show()"
      ]
    },
    {
      "cell_type": "markdown",
      "metadata": {
        "id": "IRVU_KZgyO8Q"
      },
      "source": [
        "Наш график выглядит скомканным, потому что у нас есть несколько \"выбросов\" за пределами PC1=10, которые заслоняют остальные данные. Давайте удалим их и посмотрим, как выглядит график. Опять же, эти выбросы могут быть значимыми точками данных, такими как редкие клетки крови, поэтому не спешите отбрасывать \"выбросы\". Однако временное исключение крайностей может дать нам лучшее представление о данных. Чтобы продемонстрировать это, я собираюсь переснять данные PCA без экстремальных значений."
      ]
    },
    {
      "cell_type": "code",
      "execution_count": null,
      "metadata": {
        "scrolled": true,
        "id": "ZN4uKLcvyO8Q",
        "outputId": "fe32b3a3-d905-4074-80f8-e2542b68f684"
      },
      "outputs": [
        {
          "data": {
            "image/png": "[encoded data removed]",
            "text/plain": [
              "<Figure size 720x576 with 1 Axes>"
            ]
          },
          "metadata": {},
          "output_type": "display_data"
        }
      ],
      "source": [
        "# Копирование данных PCA, отфильтровывая экстремальные значения\n",
        "no_outlier = data_reduce[data_reduce['PC1']<10]\n",
        "# Посмотрим на график\n",
        "no_outlier.plot.scatter('PC1', 'PC2', figsize=(10,8))\n",
        "plt.title('Principal Component Analysis of Fluorescent Labelled Blood Cells', fontsize=14, fontweight='bold')\n",
        "plt.show()"
      ]
    },
    {
      "cell_type": "code",
      "execution_count": null,
      "metadata": {
        "scrolled": false,
        "id": "6nsR0uURyO8Q",
        "outputId": "b3c2ddeb-e85d-4846-b3f3-3fe80f5770f5"
      },
      "outputs": [
        {
          "data": {
            "image/png": "[encoded data removed]",
            "text/plain": [
              "<Figure size 864x720 with 1 Axes>"
            ]
          },
          "metadata": {},
          "output_type": "display_data"
        }
      ],
      "source": [
        "# Копирование данных PCA, отфильтровывая экстремальные значения\n",
        "no_outlier = data_reduce[data_reduce['PC1']<2]\n",
        "# Посмотрим на график\n",
        "no_outlier.plot.scatter('PC1', 'PC2', figsize=(12,10))\n",
        "plt.title('Principal Component Analysis of Blood Cell Marker', fontsize=14, fontweight='bold')\n",
        "plt.show()"
      ]
    },
    {
      "cell_type": "markdown",
      "metadata": {
        "id": "OA22PyYnyO8R"
      },
      "source": [
        "### Этап 5. Кластеризация по методу K-средних\n",
        "\n",
        "Наконец, визуальная польза PCA заключается в способности находить скрытые закономерности в наших данных, сводя их только к релевантным характеристикам. Если у нас есть метки или категории для наших данных, мы можем раскрасить наш график PCA по этим меткам. Однако если у нас нет меток для наших экземпляров, PCA можно использовать в сочетании с алгоритмами кластеризации, такими как K-means, что позволяет обнаруживать мощные данные.\n",
        "\n",
        "<b> K-means</b> это алгоритм кластеризации без контроля, который широко используется для распределения точек данных по группам на основе их сходства. В данном случае мы имеем немаркированные данные, поскольку у нас нет информации о реальных типах клеток. K-средние можно использовать вместе с PCA для выявления скрытых закономерностей в данных.\n",
        "\n",
        "#### Запустим алгоритм кластеризации K-means для определения типов клеток\n",
        "\n",
        "Используем k-means, чтобы проверить, можем ли мы получить отдельные кластеры клеток крови. Мы не знаем, сколько существует типов или кластеров клеток крови, поэтому будем использовать популярный способ определения оптимального количества кластеров"
      ]
    },
    {
      "cell_type": "markdown",
      "metadata": {
        "id": "vRwvzAfdyO8R"
      },
      "source": [
        "Обязательными параметрами для K- means являются n_кластеров (мы не знаем) и конечно, данные (это могут быть данные, преобразованные с помощью PCA, или исходные данные). Я буду использовать k-means на исходных нормализованных данных.\n",
        "\n",
        "### Метод локтя + силуэтный анализ для поиска оптимального k кластеров\n",
        "- Как определить количество кластеров, которые нужно передать в KMeans?  Мы используем итерационный метод для количественной оценки качества каждого кластера, основанный на двух подходах:\n",
        "       \n",
        "1) Измерение уровня сходства членов в назначенных им кластерах (среднеквадратичная ошибка, она же искажение)\n",
        "\n",
        "2) Измерение уровня несходства между кластерами.   \n",
        "        \n",
        "Цель - найти оптимальное число кластеров k, которое минимизирует внутрикластерную ошибку (сумму квадратов ошибок) и максимизирует межкластерные различия.  \n",
        "\n",
        "\n",
        "- <b> Метод локтя </b> заключается в определении значения k, при котором происходит резкое уменьшение искажений;\n",
        "\n",
        "- <b> Силуэтный анализ </b> - это графический способ измерения того, насколько плотно сгруппированы кластеры. Наилучшим значением является 1, а наихудшим -1. Значения, близкие к 0, указывают на перекрывающиеся кластеры\n"
      ]
    },
    {
      "cell_type": "code",
      "execution_count": null,
      "metadata": {
        "id": "xrenUc9cyO8R"
      },
      "outputs": [],
      "source": [
        "# Передадим последовательное число кластеров и оценим, какое число дает наилучшую связность\n",
        "distortions= []\n",
        "sil_scores = [] # средний балл силлуэта\n",
        "\n",
        "for i in range(2,10,1): # начнем с 2 кластеров, увеличиваем на 1 до 10 кластеров.\n",
        "    km = KMeans(n_clusters=i, init='k-means++', n_init=10, max_iter=100, random_state=0)\n",
        "    km.fit(data_normed)\n",
        "    distortions.append(km.inertia_) # хранить качество сплоченности для каждого размера кластера\n",
        "    sil_scores.append(silhouette_score(data_normed, km.labels_, metric='euclidean'))\n"
      ]
    },
    {
      "cell_type": "code",
      "execution_count": null,
      "metadata": {
        "scrolled": false,
        "id": "jDq2lc0_yO8R",
        "outputId": "10244d67-4f2c-4f4a-e52b-ea3a6692143a"
      },
      "outputs": [
        {
          "data": {
            "image/png": "[encoded data removed]",
            "text/plain": [
              "<Figure size 576x576 with 1 Axes>"
            ]
          },
          "metadata": {},
          "output_type": "display_data"
        }
      ],
      "source": [
        "# Участок для определения \"Локтя\"\n",
        "plt.figure(figsize=(8,8))\n",
        "plt.plot(range(2,10,1), distortions, marker='o')\n",
        "plt.xlabel('Number of clusters', fontsize=14)\n",
        "plt.ylabel('Within-clustral Quality Score', fontsize=14)\n",
        "plt.title('Elbow Analysis to Find Optimal k Clusters', fontsize=14, fontweight='bold', color='maroon')\n",
        "plt.show()"
      ]
    },
    {
      "cell_type": "code",
      "execution_count": null,
      "metadata": {
        "id": "nSY27MHNyO8R",
        "outputId": "f5572d54-6cb1-41ad-e0ab-b0e8cd069158"
      },
      "outputs": [
        {
          "data": {
            "image/png": "[encoded data removed]",
            "text/plain": [
              "<Figure size 576x576 with 1 Axes>"
            ]
          },
          "metadata": {},
          "output_type": "display_data"
        }
      ],
      "source": [
        "# Визуализация \"Силуэта\"\n",
        "plt.figure(figsize=(8,8))\n",
        "plt.plot(range(2,10,1), sil_scores, marker='o')\n",
        "plt.xlabel('Number of clusters', fontsize=14)\n",
        "plt.ylabel('Mean Silhouette Scores', fontsize=14)\n",
        "plt.title('Silhouette Analysis to Find Optimal k Clusters', fontsize=14, fontweight='bold', color='maroon')\n",
        "plt.show()"
      ]
    },
    {
      "cell_type": "markdown",
      "metadata": {
        "id": "cVKUQY__yO8R"
      },
      "source": [
        "Напомню, что наилучшее значение силлуэта равно 1, а наихудшее -1. Значения, близкие к 0, указывают на перекрывающиеся (нечистые) кластеры.\n",
        "\n",
        "Мой подход заключается в том, чтобы иногда выбирать количество кластеров, которое является компромиссом между двумя методами. В данном случае k=5 кажется хорошим кандидатом, удовлетворяющим обоим методам оценки.\n",
        "\n",
        "Теперь, когда мы определили оптимальное количество кластеров, давайте запустим KMeans на исходных данных, а затем раскрасим наш график PCA в соответствии с каждым кластером, чтобы визуализировать различные типы клеток крови"
      ]
    },
    {
      "cell_type": "code",
      "execution_count": null,
      "metadata": {
        "id": "kWYyBQUPyO8R"
      },
      "outputs": [],
      "source": [
        "# подгонка Kmeans к нормализованным данным высокой размерности\n",
        "kmeans = KMeans(n_clusters=5,init='k-means++', n_init=10, max_iter=100, random_state=0).fit(data_normed)\n",
        "# извлечение кластера, присвоенный каждому экземпляру (ячейке)\n",
        "clusters = kmeans.labels_\n",
        "# добавим к нашему кадру данных PCA, чтобы мы могли раскрасить РСА по типам кластеров\n",
        "data_reduce['Cluster'] = clusters"
      ]
    },
    {
      "cell_type": "code",
      "execution_count": null,
      "metadata": {
        "scrolled": true,
        "id": "L9WWr6P3yO8S",
        "outputId": "8978ba74-0a6a-41a6-c0f6-83db41321555"
      },
      "outputs": [
        {
          "name": "stdout",
          "output_type": "stream",
          "text": [
            "(3495,)\n",
            "(3495, 3)\n"
          ]
        }
      ],
      "source": [
        "print(clusters.shape)\n",
        "print(data_reduce.shape)\n",
        "# Обратите внимание, что PCA сокращает только число измерений (столбцов), но не число выборок!!!"
      ]
    },
    {
      "cell_type": "code",
      "execution_count": null,
      "metadata": {
        "id": "PvTDnTLQyO8S",
        "outputId": "b1a418db-144a-4439-cedc-55f2620bcf31"
      },
      "outputs": [
        {
          "data": {
            "text/html": [
              "<div>\n",
              "<style scoped>\n",
              "    .dataframe tbody tr th:only-of-type {\n",
              "        vertical-align: middle;\n",
              "    }\n",
              "\n",
              "    .dataframe tbody tr th {\n",
              "        vertical-align: top;\n",
              "    }\n",
              "\n",
              "    .dataframe thead th {\n",
              "        text-align: right;\n",
              "    }\n",
              "</style>\n",
              "<table border=\"1\" class=\"dataframe\">\n",
              "  <thead>\n",
              "    <tr style=\"text-align: right;\">\n",
              "      <th></th>\n",
              "      <th>PC1</th>\n",
              "      <th>PC2</th>\n",
              "      <th>Cluster</th>\n",
              "    </tr>\n",
              "  </thead>\n",
              "  <tbody>\n",
              "    <tr>\n",
              "      <th>0</th>\n",
              "      <td>1.104903</td>\n",
              "      <td>-1.640013</td>\n",
              "      <td>2</td>\n",
              "    </tr>\n",
              "    <tr>\n",
              "      <th>1</th>\n",
              "      <td>1.018392</td>\n",
              "      <td>-1.046503</td>\n",
              "      <td>2</td>\n",
              "    </tr>\n",
              "    <tr>\n",
              "      <th>2</th>\n",
              "      <td>0.032542</td>\n",
              "      <td>-0.182891</td>\n",
              "      <td>0</td>\n",
              "    </tr>\n",
              "    <tr>\n",
              "      <th>3</th>\n",
              "      <td>1.239840</td>\n",
              "      <td>-1.366764</td>\n",
              "      <td>2</td>\n",
              "    </tr>\n",
              "    <tr>\n",
              "      <th>4</th>\n",
              "      <td>-0.668707</td>\n",
              "      <td>0.338521</td>\n",
              "      <td>0</td>\n",
              "    </tr>\n",
              "  </tbody>\n",
              "</table>\n",
              "</div>"
            ],
            "text/plain": [
              "        PC1       PC2  Cluster\n",
              "0  1.104903 -1.640013        2\n",
              "1  1.018392 -1.046503        2\n",
              "2  0.032542 -0.182891        0\n",
              "3  1.239840 -1.366764        2\n",
              "4 -0.668707  0.338521        0"
            ]
          },
          "execution_count": 57,
          "metadata": {},
          "output_type": "execute_result"
        }
      ],
      "source": [
        "data_reduce.head()"
      ]
    },
    {
      "cell_type": "code",
      "execution_count": null,
      "metadata": {
        "scrolled": false,
        "id": "kR1Up2BcyO8S",
        "outputId": "82cee214-f187-4830-da7d-092c7cfd3380"
      },
      "outputs": [
        {
          "data": {
            "image/png": "[encoded data removed]",
            "text/plain": [
              "<Figure size 475.5x432 with 1 Axes>"
            ]
          },
          "metadata": {},
          "output_type": "display_data"
        }
      ],
      "source": [
        "# Визуализация\n",
        "seaborn.pairplot( x_vars= 'PC1',y_vars='PC2', data=data_reduce, hue='Cluster', size=6,\n",
        "                plot_kws=dict(alpha=0.5, s=20)) # s - размер маркеров, alpha - прозрачность\n",
        "\n",
        "plt.title('Kmeans-PCA of Flow Cytometry of Blood Cells', fontsize=14, fontweight='bold')\n",
        "plt.show()"
      ]
    },
    {
      "cell_type": "markdown",
      "metadata": {
        "id": "t_VlxRlQyO8S"
      },
      "source": [
        "#### Kmeans-PCA смог определить различные типы клеток крови на основе различий в измерениях флуоресцентных антител, специфичных для клеток."
      ]
    },
    {
      "cell_type": "markdown",
      "metadata": {
        "id": "Tj8aQW1ZyO8T"
      },
      "source": [
        "####  Визуализируем без экстремальных значений, чтобы увидеть сплющенные кластеры крупным планом"
      ]
    },
    {
      "cell_type": "code",
      "execution_count": null,
      "metadata": {
        "scrolled": false,
        "id": "DcnBbJY6yO8T",
        "outputId": "048f833f-3462-4c6a-bf5f-043a1dede25a"
      },
      "outputs": [
        {
          "data": {
            "image/png": "[encoded data removed]",
            "text/plain": [
              "<Figure size 475.5x432 with 1 Axes>"
            ]
          },
          "metadata": {},
          "output_type": "display_data"
        }
      ],
      "source": [
        "# Копирование данных PCA, отфильтровывая экстремальные значения\n",
        "no_outlier = data_reduce[data_reduce['PC1']<10]\n",
        "\n",
        "seaborn.pairplot( x_vars= 'PC1',y_vars='PC2', data=no_outlier, hue='Cluster', size=6,\n",
        "                plot_kws=dict(alpha=0.5, s=30))\n",
        "\n",
        "plt.title('Kmeans-PCA of Flow Cytometry of Blood Cells', fontsize=14, fontweight='bold')\n",
        "plt.show()"
      ]
    },
    {
      "cell_type": "markdown",
      "metadata": {
        "id": "V0ZslwAmyO8U"
      },
      "source": [
        "### Наблюдения\n",
        "\n",
        "Мы ясно видим, почему не стоит отбрасывать экстремальные значения: при отборе образцов с PC1 меньше 10 мы отбросили целых 2 кластера клеток крови! Однако иногда полезно временно опустить экстремальные значения, которые заслоняют другие точки данных."
      ]
    },
    {
      "cell_type": "markdown",
      "source": [
        "### Вывод\n",
        "\n",
        "В ходе первичного анализа, мы с уверенностью можем сказать, что в наблюдаемой среде обнаружено 5 видов клеток."
      ],
      "metadata": {
        "id": "Q8g0YdfOka8A"
      }
    }
  ],
  "metadata": {
    "kernelspec": {
      "display_name": "Python 3",
      "language": "python",
      "name": "python3"
    },
    "language_info": {
      "codemirror_mode": {
        "name": "ipython",
        "version": 3
      },
      "file_extension": ".py",
      "mimetype": "text/x-python",
      "name": "python",
      "nbconvert_exporter": "python",
      "pygments_lexer": "ipython3",
      "version": "3.6.5rc1"
    },
    "colab": {
      "provenance": []
    }
  },
  "nbformat": 4,
  "nbformat_minor": 0
}